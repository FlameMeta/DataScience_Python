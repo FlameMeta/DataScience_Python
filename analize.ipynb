{
 "cells": [
  {
   "cell_type": "markdown",
   "id": "b9d737d0",
   "metadata": {},
   "source": []
  },
  {
   "cell_type": "markdown",
   "id": "5f5347f7",
   "metadata": {},
   "source": [
    "1. Mengidentifikasi perokok tertinggi dan terendah berdasarkan kelompok umur dan wilyah.\n",
    "- Kelompok umur mana yang memiliki persentase merokok tertinggi?\n",
    "- Perbedaan mencolok antar kelompok umur\n",
    "- wilayah mana yang memiliki tingkat perokok tertinggi\n",
    "- Perbandingan wilayah dengan persentase merokok tertinggi\n",
    "\n",
    "\n",
    "2. Mengetahui perubahan tren perokok dari perbandingan antar tahun\n",
    "- tahun berapa terjadi kenaikan atau penurunan tingkat merokok menurut usia\n",
    "- wilayah mana yang mengalami perubahan signifikan?\n",
    "- perubahan rata-rata wilayah antar tahun\n",
    "\n",
    "3. Analisa pola umum dari data\n",
    "- korelasi data antara kelompok umur dan persentase perokok\n"
   ]
  },
  {
   "cell_type": "code",
   "execution_count": null,
   "id": "96f51f20",
   "metadata": {},
   "outputs": [],
   "source": [
    "#import Dataset\n",
    "import pandas as pd\n",
    "import matplotlib.pyplot as plt\n",
    "import numpy as np\n",
    "import seaborn as sns\n",
    "data1 = pd.read_csv(\"data_csv/dataB/2020b.csv\")\n",
    "data2 = pd.read_csv(\"data_csv/dataB/2021b.csv\")\n",
    "data3 = pd.read_csv(\"data_csv/dataB/2022b.csv\")\n",
    "data4 = pd.read_csv(\"data_csv/dataB/2023b.csv\")\n",
    "\n",
    "#cek struktur data\n",
    "# data.info()\n",
    "# data\n",
    "gdata = pd.concat([data1,data2,data3,data4])\n",
    "# hgdata = gdata.groupby(\"Wilayah\")\n",
    "gdata.describe(include='all').T"
   ]
  },
  {
   "cell_type": "code",
   "execution_count": null,
   "id": "896e47a0",
   "metadata": {},
   "outputs": [],
   "source": [
    "# Rata-rata Persentase Merokok Kelompok Umur (2020–2023)\n",
    "\n",
    "rata_umur = gdata.drop(columns=[\"tahun\", \"Wilayah\"]).mean()\n",
    "sns.barplot(x=rata_umur.index, y=rata_umur.values, palette=\"Spectral\")\n",
    "# for i, v in enumerate(rata_umur.values):\n",
    "#     lb.text(i, v + 0.5, f\"{v:.2f}%\", ha='center', fontweight='bold')\n",
    "plt.title(\"Rata-rata Persentase Merokok per Kelompok Umur (2020–2023)\")\n",
    "plt.ylabel(\"Persentase (%)\")\n",
    "plt.xlabel(\"Kelompok Umur\")\n",
    "plt.xticks(rotation=45)\n",
    "plt.show()"
   ]
  },
  {
   "cell_type": "code",
   "execution_count": null,
   "id": "1af93760",
   "metadata": {},
   "outputs": [],
   "source": [
    "# Rata-rata per distribusi kelompok umur (2020-2023)\n",
    "\n",
    "bl = gdata.drop(columns=[\"tahun\", \"Wilayah\"]).mean()\n",
    "plt.figure(figsize=(8, 10))\n",
    "plt.pie(bl, labels=bl.index, autopct='%1.1f%%', startangle=100)\n",
    "plt.title(\"Distribusi Rata-rata Persentase Merokok Kelompok Umur (2020–2023)\")\n",
    "plt.axis('equal')\n",
    "plt.show()\n"
   ]
  },
  {
   "cell_type": "code",
   "execution_count": null,
   "id": "151b758b",
   "metadata": {},
   "outputs": [],
   "source": [
    "# Wilayah dengan Persentase Merokok Tertinggi (Usia 25–34 Tahun)\n",
    "age_25_34 = gdata.groupby(\"Wilayah\")[\"Perokok 25-34\"].mean().sort_values(ascending=False).head(10)\n",
    "\n",
    "# Bar chart\n",
    "plt.figure(figsize=(12,6))\n",
    "sns.barplot(x=age_25_34.values, y=age_25_34.index, palette=\"magma\")\n",
    "plt.title(\"Wilayah dengan Persentase Merokok Tertinggi (Usia 25–34 Tahun)\")\n",
    "plt.xlabel(\"Rata-rata Persentase (%)\")\n",
    "plt.ylabel(\"Kabupaten/Kota\")\n",
    "plt.tight_layout()\n",
    "plt.show()"
   ]
  },
  {
   "cell_type": "code",
   "execution_count": null,
   "id": "a58088c8",
   "metadata": {},
   "outputs": [],
   "source": [
    "# Hitung total persentase untuk setiap baris\n",
    "gdata[\"Total_Persentase\"] = gdata.drop(columns=[\"Wilayah\", \"tahun\"]).sum(axis=1)\n",
    "\n",
    "# Ambil rata-rata total per wilayah\n",
    "top_total = gdata.groupby(\"Wilayah\")[\"Total_Persentase\"].mean().sort_values(ascending=False).head(10)\n",
    "\n",
    "plt.figure(figsize=(12,6))\n",
    "sns.barplot(x=top_total.values, y=top_total.index, palette=\"rocket\")\n",
    "plt.title(\"10 Wilayah dengan Persentase Merokok Tertinggi (Total Semua Kelompok Umur)\")\n",
    "plt.xlabel(\"Rata-rata Total Persentase (%)\")\n",
    "plt.ylabel(\"Kabupaten/Kota\")\n",
    "plt.tight_layout()\n",
    "plt.show()\n"
   ]
  },
  {
   "cell_type": "code",
   "execution_count": null,
   "id": "e287f1fd",
   "metadata": {},
   "outputs": [],
   "source": [
    "# Barplot rata-rata per kelompok umur\n",
    "avg_by_age_group = gdata.drop(columns=[\"tahun\", \"Wilayah\"]).mean().sort_values(ascending=False)\n",
    "plt.figure(figsize=(10, 6))\n",
    "sns.barplot(x=avg_by_age_group.values, y=avg_by_age_group.index, palette='viridis')\n",
    "plt.xlabel(\"Rata-rata Persentase (%)\")\n",
    "plt.ylabel(\"Kelompok Umur\")\n",
    "plt.title(\"Perbandingan Rata-rata Perokok per Kelompok Umur (2020–2023)\")\n",
    "plt.xlim(0, max(avg_by_age_group) + 5)\n",
    "plt.show()\n"
   ]
  },
  {
   "cell_type": "code",
   "execution_count": null,
   "id": "273cf9c4",
   "metadata": {},
   "outputs": [],
   "source": [
    "# import numpy as np\n",
    "# kol_perokok = ['Perokok 15-24', 'Perokok 25-34', 'Perokok 35-44', 'Perokok 45-54', 'Perokok 55-64', 'Perokok 65+']\n",
    "# for kolom in kol_perokok:\n",
    "#     rata = data[(data[kolom] >= 0) & (data[kolom] <= 100)][kolom].mean()\n",
    "#     data.loc[(data[kolom] < 0) | (data[kolom] > 100), kolom] = rata\n",
    "# stat = data[kol_perokok].describe(include='all').T\n",
    "\n",
    "# stat[\"range\"] = stat[\"max\"] - stat[\"min\"]\n",
    "# data.reset_index(inplace=True)\n",
    "# stat.rename(columns={\"index\": \"Kelompok Umur\"}, inplace=True)\n",
    "\n",
    "# stat.describe(include='all').T\n",
    "# data2.describe(include='all').T\n",
    "# data"
   ]
  }
 ],
 "metadata": {
  "kernelspec": {
   "display_name": "Python 3",
   "language": "python",
   "name": "python3"
  },
  "language_info": {
   "codemirror_mode": {
    "name": "ipython",
    "version": 3
   },
   "file_extension": ".py",
   "mimetype": "text/x-python",
   "name": "python",
   "nbconvert_exporter": "python",
   "pygments_lexer": "ipython3",
   "version": "3.12.6"
  }
 },
 "nbformat": 4,
 "nbformat_minor": 5
}
