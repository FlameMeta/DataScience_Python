{
 "cells": [
  {
   "cell_type": "markdown",
   "id": "5f5347f7",
   "metadata": {},
   "source": [
    "1. Mengidentifikasi perokok tertinggi dan terendah berdasarkan kelompok umur dan wilyah.\n",
    "-Kelompok umur mana yang memiliki persentase merokok tertinggi?\n",
    "-Perbedaan mencolok antar kelompok umur\n",
    "-wilayah mana yang memiliki tingkat perokok tertinggi\n",
    "-Perbandingan wilayah dengan persentase merokok tertinggi\n",
    "\n",
    "2. Mengetahui perubahan tren perokok dari perbandingan antar tahun\n",
    "-Apakah terjadi kenaikan atau penurunan tingkat merokok menurut usia\n",
    "-wilayah mana yang mengalami perubahan signifikan?\n",
    "-perubahan rata-rata wilayah antar tahun\n",
    "\n",
    "3.Analisa pola umum dari data\n",
    "korelasi data antara kelompok umur dan persentase perokok\n"
   ]
  },
  {
   "cell_type": "code",
   "execution_count": 215,
   "id": "96f51f20",
   "metadata": {},
   "outputs": [],
   "source": [
    "#import Dataset\n",
    "import pandas as pd\n",
    "data = pd.read_csv(\"data_csv/2020.csv\")\n",
    "data1 = pd.read_csv(\"data_csv/2021.csv\")\n",
    "data2 = pd.read_csv(\"data_csv/2022.csv\")\n",
    "\n",
    "#cek struktur data\n",
    "data.info()\n",
    "data"
   ]
  },
  {
   "cell_type": "code",
   "execution_count": 225,
   "id": "273cf9c4",
   "metadata": {},
   "outputs": [],
   "source": [
    "#analisis data berdasarkan umur\n",
    "\n",
    "# import numpy as np\n",
    "# kol_perokok = ['Perokok 15-24', 'Perokok 25-34', 'Perokok 35-44', 'Perokok 45-54', 'Perokok 55-64', 'Perokok 65+']\n",
    "# for kolom in kol_perokok:\n",
    "#     rata = data[(data[kolom] >= 0) & (data[kolom] <= 100)][kolom].mean()\n",
    "#     data.loc[(data[kolom] < 0) | (data[kolom] > 100), kolom] = rata\n",
    "# stat = data[kol_perokok].describe(include='all').T\n",
    "\n",
    "# stat[\"range\"] = stat[\"max\"] - stat[\"min\"]\n",
    "# data.reset_index(inplace=True)\n",
    "# stat.rename(columns={\"index\": \"Kelompok Umur\"}, inplace=True)\n",
    "\n",
    "# stat.describe(include='all').T\n",
    "data.describe(include='all').T\n",
    "# data"
   ]
  }
 ],
 "metadata": {
  "kernelspec": {
   "display_name": "Python 3",
   "language": "python",
   "name": "python3"
  },
  "language_info": {
   "codemirror_mode": {
    "name": "ipython",
    "version": 3
   },
   "file_extension": ".py",
   "mimetype": "text/x-python",
   "name": "python",
   "nbconvert_exporter": "python",
   "pygments_lexer": "ipython3",
   "version": "3.12.6"
  }
 },
 "nbformat": 4,
 "nbformat_minor": 5
}
