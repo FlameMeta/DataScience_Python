{
 "cells": [
  {
   "cell_type": "markdown",
   "id": "3ccbf420",
   "metadata": {},
   "source": [
    "data pendukung"
   ]
  },
  {
   "cell_type": "code",
   "execution_count": 8,
   "id": "da6c0559",
   "metadata": {},
   "outputs": [
    {
     "data": {
      "text/html": [
       "<div>\n",
       "<style scoped>\n",
       "    .dataframe tbody tr th:only-of-type {\n",
       "        vertical-align: middle;\n",
       "    }\n",
       "\n",
       "    .dataframe tbody tr th {\n",
       "        vertical-align: top;\n",
       "    }\n",
       "\n",
       "    .dataframe thead th {\n",
       "        text-align: right;\n",
       "    }\n",
       "</style>\n",
       "<table border=\"1\" class=\"dataframe\">\n",
       "  <thead>\n",
       "    <tr style=\"text-align: right;\">\n",
       "      <th></th>\n",
       "      <th>id</th>\n",
       "      <th>kode_provinsi</th>\n",
       "      <th>nama_provinsi</th>\n",
       "      <th>bps_kode_kabupaten_kota</th>\n",
       "      <th>bps_nama_kabupaten_kota</th>\n",
       "      <th>kelompok_umur</th>\n",
       "      <th>persentase_penduduk</th>\n",
       "      <th>tahun</th>\n",
       "      <th>satuan</th>\n",
       "    </tr>\n",
       "  </thead>\n",
       "  <tbody>\n",
       "    <tr>\n",
       "      <th>0</th>\n",
       "      <td>1</td>\n",
       "      <td>32</td>\n",
       "      <td>JAWA\\n  BARAT</td>\n",
       "      <td>3201</td>\n",
       "      <td>KABUPATEN\\n  BOGOR</td>\n",
       "      <td>15-24</td>\n",
       "      <td>17.33</td>\n",
       "      <td>2023</td>\n",
       "      <td>PERSEN</td>\n",
       "    </tr>\n",
       "    <tr>\n",
       "      <th>1</th>\n",
       "      <td>2</td>\n",
       "      <td>32</td>\n",
       "      <td>JAWA BARAT</td>\n",
       "      <td>3201</td>\n",
       "      <td>KABUPATEN BOGOR</td>\n",
       "      <td>25-34</td>\n",
       "      <td>24.96</td>\n",
       "      <td>2023</td>\n",
       "      <td>PERSEN</td>\n",
       "    </tr>\n",
       "    <tr>\n",
       "      <th>2</th>\n",
       "      <td>3</td>\n",
       "      <td>32</td>\n",
       "      <td>JAWA\\n  BARAT</td>\n",
       "      <td>3201</td>\n",
       "      <td>KABUPATEN\\n  BOGOR</td>\n",
       "      <td>35-44</td>\n",
       "      <td>23.55</td>\n",
       "      <td>2023</td>\n",
       "      <td>PERSEN</td>\n",
       "    </tr>\n",
       "    <tr>\n",
       "      <th>3</th>\n",
       "      <td>4</td>\n",
       "      <td>32</td>\n",
       "      <td>JAWA BARAT</td>\n",
       "      <td>3201</td>\n",
       "      <td>KABUPATEN BOGOR</td>\n",
       "      <td>45-54</td>\n",
       "      <td>18.16</td>\n",
       "      <td>2023</td>\n",
       "      <td>PERSEN</td>\n",
       "    </tr>\n",
       "    <tr>\n",
       "      <th>4</th>\n",
       "      <td>5</td>\n",
       "      <td>32</td>\n",
       "      <td>JAWA\\n  BARAT</td>\n",
       "      <td>3201</td>\n",
       "      <td>KABUPATEN\\n  BOGOR</td>\n",
       "      <td>55-64</td>\n",
       "      <td>9.77</td>\n",
       "      <td>2023</td>\n",
       "      <td>PERSEN</td>\n",
       "    </tr>\n",
       "  </tbody>\n",
       "</table>\n",
       "</div>"
      ],
      "text/plain": [
       "   id  kode_provinsi  nama_provinsi  bps_kode_kabupaten_kota  \\\n",
       "0   1             32  JAWA\\n  BARAT                     3201   \n",
       "1   2             32     JAWA BARAT                     3201   \n",
       "2   3             32  JAWA\\n  BARAT                     3201   \n",
       "3   4             32     JAWA BARAT                     3201   \n",
       "4   5             32  JAWA\\n  BARAT                     3201   \n",
       "\n",
       "  bps_nama_kabupaten_kota kelompok_umur  persentase_penduduk  tahun  satuan  \n",
       "0      KABUPATEN\\n  BOGOR         15-24                17.33   2023  PERSEN  \n",
       "1         KABUPATEN BOGOR         25-34                24.96   2023  PERSEN  \n",
       "2      KABUPATEN\\n  BOGOR         35-44                23.55   2023  PERSEN  \n",
       "3         KABUPATEN BOGOR         45-54                18.16   2023  PERSEN  \n",
       "4      KABUPATEN\\n  BOGOR         55-64                 9.77   2023  PERSEN  "
      ]
     },
     "execution_count": 8,
     "metadata": {},
     "output_type": "execute_result"
    }
   ],
   "source": [
    "import pandas as pd\n",
    "\n",
    "# Load the CSV file\n",
    "file_path = \"data_csv/prsnts_pnddk_s_15_thn_k_ts_yng_mrkk_dlm_sbln_trkhr_mnrt_klmpk_m.csv\"\n",
    "df = pd.read_csv(file_path)\n",
    "\n",
    "# Display the first few rows to understand its structure\n",
    "df.head()\n"
   ]
  },
  {
   "cell_type": "markdown",
   "id": "9cd86c60",
   "metadata": {},
   "source": [
    "Dataset ini berisi persentase penduduk berusia 15 tahun ke atas yang merokok dalam sebulan terakhir, diklasifikasikan menurut kelompok umur dan wilayah di Indonesia. Beberapa kolom penting:\n",
    "\n",
    "nama_provinsi: Nama provinsi\n",
    "\n",
    "bps_nama_kabupaten_kota: Nama kabupaten/kota\n",
    "\n",
    "kelompok_umur: Kelompok umur responden\n",
    "\n",
    "persentase_penduduk: Persentase perokok dalam kelompok tersebut\n",
    "\n",
    "tahun: Tahun pengumpulan data (2023)\n",
    "\n"
   ]
  },
  {
   "cell_type": "markdown",
   "id": "b948bac4",
   "metadata": {},
   "source": [
    "🔎 Import dan Pembersihan Data"
   ]
  },
  {
   "cell_type": "code",
   "execution_count": 9,
   "id": "01a9fa9d",
   "metadata": {},
   "outputs": [
    {
     "data": {
      "text/plain": [
       "array(['15-24', '25-34', '35-44', '45-54', '55-64', '65+'], dtype=object)"
      ]
     },
     "execution_count": 9,
     "metadata": {},
     "output_type": "execute_result"
    }
   ],
   "source": [
    "import pandas as pd\n",
    "\n",
    "# Muat data\n",
    "df = pd.read_csv(\"data_csv/prsnts_pnddk_s_15_thn_k_ts_yng_mrkk_dlm_sbln_trkhr_mnrt_klmpk_m.csv\")\n",
    "\n",
    "# Hapus whitespace dan newline pada nama provinsi/kabupaten\n",
    "df['nama_provinsi'] = df['nama_provinsi'].str.replace('\\n', '').str.strip()\n",
    "df['bps_nama_kabupaten_kota'] = df['bps_nama_kabupaten_kota'].str.replace('\\n', '').str.strip()\n",
    "\n",
    "# Cek data unik kelompok umur\n",
    "df['kelompok_umur'].unique()\n"
   ]
  },
  {
   "cell_type": "markdown",
   "id": "46fb438b",
   "metadata": {},
   "source": [
    "📈 Visualisasi: Pola Merokok Berdasarkan Kelompok Umur"
   ]
  },
  {
   "cell_type": "code",
   "execution_count": 10,
   "id": "9a0e1f3f",
   "metadata": {},
   "outputs": [
    {
     "data": {
      "image/png": "[encoded data removed]",
      "text/plain": [
       "<Figure size 1000x600 with 1 Axes>"
      ]
     },
     "metadata": {},
     "output_type": "display_data"
    }
   ],
   "source": [
    "import matplotlib.pyplot as plt\n",
    "\n",
    "# Hitung rata-rata nasional per kelompok umur\n",
    "avg_by_age = df.groupby(\"kelompok_umur\")[\"persentase_penduduk\"].mean().sort_index()\n",
    "\n",
    "# Visualisasikan\n",
    "plt.figure(figsize=(10,6))\n",
    "avg_by_age.plot(kind='bar', color='teal')\n",
    "plt.title(\"Rata-rata Persentase Perokok menurut Kelompok Umur (Nasional, 2023)\")\n",
    "plt.xlabel(\"Kelompok Umur\")\n",
    "plt.ylabel(\"Persentase (%)\")\n",
    "plt.xticks(rotation=45)\n",
    "plt.grid(axis='y', linestyle='--', alpha=0.7)\n",
    "plt.tight_layout()\n",
    "plt.show()\n"
   ]
  },
  {
   "cell_type": "markdown",
   "id": "aa77d1aa",
   "metadata": {},
   "source": [
    "Dari grafik di atas, kita bisa melihat:\n",
    "\n",
    "• Persentase perokok paling tinggi biasanya berada di kelompok usia 25–34 tahun.\n",
    "\n",
    "• Usia 15–24 tahun (remaja hingga dewasa muda) juga menunjukkan angka yang signifikan.\n",
    "\n",
    "• Persentase mulai menurun setelah usia 45 tahun."
   ]
  }
 ],
 "metadata": {
  "kernelspec": {
   "display_name": "Python 3",
   "language": "python",
   "name": "python3"
  },
  "language_info": {
   "codemirror_mode": {
    "name": "ipython",
    "version": 3
   },
   "file_extension": ".py",
   "mimetype": "text/x-python",
   "name": "python",
   "nbconvert_exporter": "python",
   "pygments_lexer": "ipython3",
   "version": "3.12.6"
  }
 },
 "nbformat": 4,
 "nbformat_minor": 5
}
