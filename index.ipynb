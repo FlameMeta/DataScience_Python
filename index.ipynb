{
 "cells": [
  {
   "cell_type": "code",
   "execution_count": 3,
   "id": "4042ac7d",
   "metadata": {},
   "outputs": [
    {
     "name": "stdout",
     "output_type": "stream",
     "text": [
      "  Kabupaten/Kota  \\\n",
      "0          Bogor   \n",
      "1       Sukabumi   \n",
      "2        Cianjur   \n",
      "3        Bandung   \n",
      "4          Garut   \n",
      "\n",
      "   Persentase Penduduk Usia 15 Tahun Ke Atas yang Merokok dalam Sebulan Terakhir Menurut Kelompok Umur - 15-24  \\\n",
      "0                                              18.89                                                             \n",
      "1                                              14.35                                                             \n",
      "2                                              18.10                                                             \n",
      "3                                              18.09                                                             \n",
      "4                                              15.22                                                             \n",
      "\n",
      "   Persentase Penduduk Usia 15 Tahun Ke Atas yang Merokok dalam Sebulan Terakhir Menurut Kelompok Umur - 25-34  \\\n",
      "0                                              27.40                                                             \n",
      "1                                              22.75                                                             \n",
      "2                                              20.36                                                             \n",
      "3                                              24.11                                                             \n",
      "4                                              23.02                                                             \n",
      "\n",
      "   Persentase Penduduk Usia 15 Tahun Ke Atas yang Merokok dalam Sebulan Terakhir Menurut Kelompok Umur - 35-44  \\\n",
      "0                                              24.49                                                             \n",
      "1                                              22.89                                                             \n",
      "2                                              22.04                                                             \n",
      "3                                              23.83                                                             \n",
      "4                                              21.33                                                             \n",
      "\n",
      "   Persentase Penduduk Usia 15 Tahun Ke Atas yang Merokok dalam Sebulan Terakhir Menurut Kelompok Umur - 45-54  \\\n",
      "0                                              16.29                                                             \n",
      "1                                              20.99                                                             \n",
      "2                                              19.24                                                             \n",
      "3                                              17.58                                                             \n",
      "4                                              20.03                                                             \n",
      "\n",
      "   Persentase Penduduk Usia 15 Tahun Ke Atas yang Merokok dalam Sebulan Terakhir Menurut Kelompok Umur - 55-64  \\\n",
      "0                                               9.08                                                             \n",
      "1                                              12.16                                                             \n",
      "2                                              11.75                                                             \n",
      "3                                              11.07                                                             \n",
      "4                                              12.30                                                             \n",
      "\n",
      "   Persentase Penduduk Usia 15 Tahun Ke Atas yang Merokok dalam Sebulan Terakhir Menurut Kelompok Umur - 65+  \n",
      "0                                               3.84                                                          \n",
      "1                                               6.87                                                          \n",
      "2                                               8.52                                                          \n",
      "3                                               5.32                                                          \n",
      "4                                               8.09                                                          \n"
     ]
    }
   ],
   "source": [
    "import pandas as pd\n",
    "import matplotlib.pyplot as plt\n",
    "\n",
    "data1 = pd.read_csv('data_csv/data1.csv')\n",
    "# data2= pd.read_csv('data_csv/data2.csv')\n",
    "\n",
    "\n",
    "# gabungan = pd.concat([data1, data2], ignore_index=True)\n",
    "\n",
    "# Tampilkan 5 baris pertama\n",
    "print(data1.head())\n"
   ]
  }
 ],
 "metadata": {
  "kernelspec": {
   "display_name": "Python 3",
   "language": "python",
   "name": "python3"
  },
  "language_info": {
   "codemirror_mode": {
    "name": "ipython",
    "version": 3
   },
   "file_extension": ".py",
   "mimetype": "text/x-python",
   "name": "python",
   "nbconvert_exporter": "python",
   "pygments_lexer": "ipython3",
   "version": "3.12.4"
  }
 },
 "nbformat": 4,
 "nbformat_minor": 5
}
