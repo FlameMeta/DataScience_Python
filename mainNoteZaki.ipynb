{
 "cells": [
  {
   "cell_type": "code",
   "execution_count": null,
   "id": "4042ac7d",
   "metadata": {},
   "outputs": [
    {
     "name": "stdout",
     "output_type": "stream",
     "text": [
      "  Kabupaten/Kota  Kelompok Umur - 15-24  Kelompok Umur - 25-34  \\\n",
      "0          Bogor                  18.89                  27.40   \n",
      "1       Sukabumi                  14.35                  22.75   \n",
      "2        Cianjur                  18.10                  20.36   \n",
      "3        Bandung                  18.09                  24.11   \n",
      "4          Garut                  15.22                  23.02   \n",
      "\n",
      "   Kelompok Umur - 35-44  Kelompok Umur - 45-54  Kelompok Umur - 55-64  \\\n",
      "0                  24.49                  16.29                   9.08   \n",
      "1                  22.89                  20.99                  12.16   \n",
      "2                  22.04                  19.24                  11.75   \n",
      "3                  23.83                  17.58                  11.07   \n",
      "4                  21.33                  20.03                  12.30   \n",
      "\n",
      "   Kelompok Umur - 65+     tanggal  \n",
      "0                 3.84  2020-01-01  \n",
      "1                 6.87  2020-01-01  \n",
      "2                 8.52  2020-01-01  \n",
      "3                 5.32  2020-01-01  \n",
      "4                 8.09  2020-01-01  \n",
      "      Kabupaten/Kota  Kelompok Umur - 15-24  Kelompok Umur - 25-34  \\\n",
      "23        Kota Depok                  16.70                  27.24   \n",
      "24       Kota Cimahi                  16.42                  26.82   \n",
      "25  Kota Tasikmalaya                  16.02                  20.53   \n",
      "26       Kota Banjar                  11.76                  18.60   \n",
      "27        Jawa Barat                  15.74                  23.66   \n",
      "\n",
      "    Kelompok Umur - 35-44  Kelompok Umur - 45-54  Kelompok Umur - 55-64  \\\n",
      "23                  26.44                  18.80                   7.85   \n",
      "24               25088.00                  17.93                   9.44   \n",
      "25                  23.51                  22.19                  11.48   \n",
      "26                  21.13                  21.98                  17.14   \n",
      "27                  23.60                  18.97                  11.76   \n",
      "\n",
      "    Kelompok Umur - 65+     tanggal  \n",
      "23                 2.97  2020-01-01  \n",
      "24                 4.32  2020-01-01  \n",
      "25                 6.27  2020-01-01  \n",
      "26                 9.38  2020-01-01  \n",
      "27                 6.38  2020-01-01  \n",
      "Categoriacal variables: \n",
      "Index(['Kabupaten/Kota', 'tanggal'], dtype='object')\n",
      "numerical variables\n",
      "['Kelompok Umur - 15-24', 'Kelompok Umur - 25-34', 'Kelompok Umur - 35-44', 'Kelompok Umur - 45-54', 'Kelompok Umur - 55-64', 'Kelompok Umur - 65+']\n"
     ]
    }
   ],
   "source": [
    "import pandas as pd\n",
    "import matplotlib.pyplot as plt\n",
    "import numpy as np\n",
    "data1 = pd.read_csv('data_csv/data1.csv')\n",
    "# data2= pd.read_csv('data_csv/data2.csv')\n",
    "\n",
    "\n",
    "# gabungan = pd.concat([data1, data2], ignore_index=True)\n",
    "\n",
    "# Tampilkan 5 baris pertama\n",
    "print(data1.head())\n",
    "print(data1.tail())\n",
    "\n",
    "\n",
    "dataobject = data1.select_dtypes(include = [\"object\"]).columns\n",
    "datanumeric = data1.select_dtypes(include = np.number).columns.tolist()\n",
    "print(\"Categoriacal variables: \")\n",
    "print(dataobject)\n",
    "print(\"numerical variables\")\n",
    "print(datanumeric)"
   ]
  }
 ],
 "metadata": {
  "kernelspec": {
   "display_name": "Python 3",
   "language": "python",
   "name": "python3"
  },
  "language_info": {
   "codemirror_mode": {
    "name": "ipython",
    "version": 3
   },
   "file_extension": ".py",
   "mimetype": "text/x-python",
   "name": "python",
   "nbconvert_exporter": "python",
   "pygments_lexer": "ipython3",
   "version": "3.12.6"
  }
 },
 "nbformat": 4,
 "nbformat_minor": 5
}
